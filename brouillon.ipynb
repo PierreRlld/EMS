{
 "cells": [
  {
   "cell_type": "code",
   "execution_count": 5,
   "metadata": {},
   "outputs": [
    {
     "data": {
      "text/plain": [
       "7"
      ]
     },
     "metadata": {},
     "output_type": "display_data"
    },
    {
     "data": {
      "text/plain": [
       "['Vol.87', 'Chapter', '105', 'test']"
      ]
     },
     "metadata": {},
     "output_type": "display_data"
    }
   ],
   "source": [
    "test = \"Vol.87 Chapter 105 test\"\n",
    "display(test.find('Chapter'))\n",
    "display(test.split(' '))"
   ]
  },
  {
   "cell_type": "code",
   "execution_count": 13,
   "metadata": {},
   "outputs": [],
   "source": [
    "import os\n",
    "def get_dic(Name_path,):  \n",
    "    chapt_list = os.listdir(\"/Volumes/222EXT/222Mangas_input/20th Century Boys\")\n",
    "    #chapt_list = os.listdir(\"/Volumes/222EXT/222Mangas_input/GTO\")\n",
    "    nul = [\".DS_Store\", \"._.DS_Store\"]\n",
    "    for ele in nul:\n",
    "        try:\n",
    "            chapt_list.remove(ele)\n",
    "        except:\n",
    "            pass\n",
    "    spe_dic={}\n",
    "    for el in chapt_list:\n",
    "        if Name_path=='Vagabond':\n",
    "            chapt = round(float(el.split(' ')[2]))\n",
    "        else:\n",
    "            chapt = round(float(el.split(' ')[1].split('.')[1]))  #<Vol.XX Chapter.XX>\n",
    "        try:\n",
    "            vol = round(float(el.split(' ')[0].split('.')[1]))\n",
    "        except:\n",
    "            print(el, \"error\")\n",
    "        print(chapt,vol)\n",
    "        spe_dic[chapt]=vol\n",
    "    return spe_dic"
   ]
  },
  {
   "cell_type": "code",
   "execution_count": 1,
   "metadata": {},
   "outputs": [],
   "source": [
    "import re\n",
    "\n",
    "a1 = \"Ch.177.3\"\n",
    "a2 = \"Chapter 177.3\"\n",
    "a3 = \"Vol.3 Ch.177.3\"\n",
    "a4 = \"Vol.3 Chapter 177.3 test\""
   ]
  },
  {
   "cell_type": "code",
   "execution_count": 2,
   "metadata": {},
   "outputs": [
    {
     "data": {
      "text/plain": [
       "'177'"
      ]
     },
     "execution_count": 2,
     "metadata": {},
     "output_type": "execute_result"
    }
   ],
   "source": [
    "x = a4\n",
    "try:\n",
    "    y = re.search(r'Chapter \\d+',x).group(0)\n",
    "except:\n",
    "    y = re.search(r'Ch.\\d+',x).group(0)\n",
    "re.findall(r'\\d+',y)[0]"
   ]
  },
  {
   "cell_type": "code",
   "execution_count": 8,
   "metadata": {},
   "outputs": [
    {
     "data": {
      "text/plain": [
       "'3'"
      ]
     },
     "execution_count": 8,
     "metadata": {},
     "output_type": "execute_result"
    }
   ],
   "source": [
    "y = re.search(r'Vol.\\d+',x).group()\n",
    "re.findall(r'\\d+',y)[0]"
   ]
  },
  {
   "cell_type": "code",
   "execution_count": 57,
   "metadata": {},
   "outputs": [],
   "source": [
    "import pandas as pd\n",
    "import numpy as np\n",
    "df = pd.read_excel('new.xlsx', sheet_name='UPDATE')"
   ]
  },
  {
   "cell_type": "code",
   "execution_count": 59,
   "metadata": {},
   "outputs": [],
   "source": [
    "manga = \"SakDays\"\n",
    "sub = df[[\"Vol\",manga]].copy()\n",
    "sub = sub.dropna()\n",
    "dic = pd.Series(sub.Vol.values, index=sub[manga])\n",
    "dic.index = dic.index.astype(\"int\")"
   ]
  },
  {
   "cell_type": "code",
   "execution_count": 45,
   "metadata": {},
   "outputs": [
    {
     "data": {
      "text/plain": [
       "SakDays\n",
       "124    TBD\n",
       "106     12\n",
       "97      11\n",
       "88      10\n",
       "79       9\n",
       "70       8\n",
       "61       7\n",
       "52       6\n",
       "43       5\n",
       "34       4\n",
       "25       3\n",
       "16       2\n",
       "7        1\n",
       "dtype: object"
      ]
     },
     "execution_count": 45,
     "metadata": {},
     "output_type": "execute_result"
    }
   ],
   "source": [
    "dic"
   ]
  },
  {
   "cell_type": "code",
   "execution_count": 60,
   "metadata": {},
   "outputs": [
    {
     "data": {
      "text/plain": [
       "{0: 1,\n",
       " 1: 1,\n",
       " 2: 1,\n",
       " 3: 1,\n",
       " 4: 1,\n",
       " 5: 1,\n",
       " 6: 1,\n",
       " 7: 2,\n",
       " 8: 2,\n",
       " 9: 2,\n",
       " 10: 2,\n",
       " 11: 2,\n",
       " 12: 2,\n",
       " 13: 2,\n",
       " 14: 2,\n",
       " 15: 2,\n",
       " 16: 3,\n",
       " 17: 3,\n",
       " 18: 3,\n",
       " 19: 3,\n",
       " 20: 3,\n",
       " 21: 3,\n",
       " 22: 3,\n",
       " 23: 3,\n",
       " 24: 3,\n",
       " 25: 4,\n",
       " 26: 4,\n",
       " 27: 4,\n",
       " 28: 4,\n",
       " 29: 4,\n",
       " 30: 4,\n",
       " 31: 4,\n",
       " 32: 4,\n",
       " 33: 4,\n",
       " 34: 5,\n",
       " 35: 5,\n",
       " 36: 5,\n",
       " 37: 5,\n",
       " 38: 5,\n",
       " 39: 5,\n",
       " 40: 5,\n",
       " 41: 5,\n",
       " 42: 5,\n",
       " 43: 6,\n",
       " 44: 6,\n",
       " 45: 6,\n",
       " 46: 6,\n",
       " 47: 6,\n",
       " 48: 6,\n",
       " 49: 6,\n",
       " 50: 6,\n",
       " 51: 6,\n",
       " 52: 7,\n",
       " 53: 7,\n",
       " 54: 7,\n",
       " 55: 7,\n",
       " 56: 7,\n",
       " 57: 7,\n",
       " 58: 7,\n",
       " 59: 7,\n",
       " 60: 7,\n",
       " 61: 8,\n",
       " 62: 8,\n",
       " 63: 8,\n",
       " 64: 8,\n",
       " 65: 8,\n",
       " 66: 8,\n",
       " 67: 8,\n",
       " 68: 8,\n",
       " 69: 8,\n",
       " 70: 9,\n",
       " 71: 9,\n",
       " 72: 9,\n",
       " 73: 9,\n",
       " 74: 9,\n",
       " 75: 9,\n",
       " 76: 9,\n",
       " 77: 9,\n",
       " 78: 9,\n",
       " 79: 10,\n",
       " 80: 10,\n",
       " 81: 10,\n",
       " 82: 10,\n",
       " 83: 10,\n",
       " 84: 10,\n",
       " 85: 10,\n",
       " 86: 10,\n",
       " 87: 10,\n",
       " 88: 11,\n",
       " 89: 11,\n",
       " 90: 11,\n",
       " 91: 11,\n",
       " 92: 11,\n",
       " 93: 11,\n",
       " 94: 11,\n",
       " 95: 11,\n",
       " 96: 11,\n",
       " 97: 12,\n",
       " 98: 12,\n",
       " 99: 12,\n",
       " 100: 12,\n",
       " 101: 12,\n",
       " 102: 12,\n",
       " 103: 12,\n",
       " 104: 12,\n",
       " 105: 12,\n",
       " 106: 'TBD',\n",
       " 107: 'TBD',\n",
       " 108: 'TBD',\n",
       " 109: 'TBD',\n",
       " 110: 'TBD',\n",
       " 111: 'TBD',\n",
       " 112: 'TBD',\n",
       " 113: 'TBD',\n",
       " 114: 'TBD',\n",
       " 115: 'TBD',\n",
       " 116: 'TBD',\n",
       " 117: 'TBD',\n",
       " 118: 'TBD',\n",
       " 119: 'TBD',\n",
       " 120: 'TBD',\n",
       " 121: 'TBD',\n",
       " 122: 'TBD',\n",
       " 123: 'TBD',\n",
       " 124: 'TBD'}"
      ]
     },
     "execution_count": 60,
     "metadata": {},
     "output_type": "execute_result"
    }
   ],
   "source": [
    "d = {}\n",
    "l = list(dic.index)\n",
    "l.reverse()\n",
    "\n",
    "for j in range(l[0]+1):\n",
    "    d[j] = dic[l[0]]\n",
    "for k in range(1,len(l)):\n",
    "    for j in range(l[k-1],l[k]+1):\n",
    "        d[j] = dic[l[k]]\n",
    "\n",
    "d"
   ]
  },
  {
   "cell_type": "code",
   "execution_count": 61,
   "metadata": {},
   "outputs": [
    {
     "data": {
      "text/plain": [
       "dict_keys([0, 1, 2, 3, 4, 5, 6, 7, 8, 9, 10, 11, 12, 13, 14, 15, 16, 17, 18, 19, 20, 21, 22, 23, 24, 25, 26, 27, 28, 29, 30, 31, 32, 33, 34, 35, 36, 37, 38, 39, 40, 41, 42, 43, 44, 45, 46, 47, 48, 49, 50, 51, 52, 53, 54, 55, 56, 57, 58, 59, 60, 61, 62, 63, 64, 65, 66, 67, 68, 69, 70, 71, 72, 73, 74, 75, 76, 77, 78, 79, 80, 81, 82, 83, 84, 85, 86, 87, 88, 89, 90, 91, 92, 93, 94, 95, 96, 97, 98, 99, 100, 101, 102, 103, 104, 105, 106, 107, 108, 109, 110, 111, 112, 113, 114, 115, 116, 117, 118, 119, 120, 121, 122, 123, 124])"
      ]
     },
     "execution_count": 61,
     "metadata": {},
     "output_type": "execute_result"
    }
   ],
   "source": [
    "d.keys()"
   ]
  },
  {
   "cell_type": "code",
   "execution_count": 1,
   "metadata": {},
   "outputs": [],
   "source": [
    "import pandas as pd "
   ]
  },
  {
   "cell_type": "code",
   "execution_count": 19,
   "metadata": {},
   "outputs": [
    {
     "data": {
      "text/plain": [
       "{'20thCB': '20th Century Boys',\n",
       " 'BCL': 'Black Clover',\n",
       " 'Bleach': 'Bleach',\n",
       " 'Chainsaw': 'Chainsaw Man',\n",
       " 'CJX': 'Choujin X',\n",
       " 'Conan': 'Detective Conan',\n",
       " 'DB': 'Dragon Ball',\n",
       " 'DBSuper': 'Dragon Ball Super',\n",
       " 'Gamaran': 'Gamaran',\n",
       " 'Gintama': 'Gintama',\n",
       " 'GTO': 'GTO',\n",
       " 'HellP': \"Hell's Paradise Jigokuraku\",\n",
       " 'HxH': 'Hunter X Hunter',\n",
       " 'JJK': 'Jujutsu Kaisen',\n",
       " 'Jojo1': 'JoJo’s Bizarre Adventure',\n",
       " 'Jojo2': 'JoJo’s Bizarre Adventure',\n",
       " 'Jojo3': 'JoJo’s Bizarre Adventure',\n",
       " 'Jojo4': 'Jojo’s Bizarre Adventure Part 8 – Jojolion',\n",
       " 'Kaiju': 'Kaiju No. 8',\n",
       " 'KNB': 'Kuroko no Basuke',\n",
       " 'Mashle': 'Mashle',\n",
       " 'MHA': 'Boku no Hero Academia',\n",
       " 'NNTZ': 'Nanatsu no Taizai',\n",
       " 'OP': 'One Piece',\n",
       " 'Opman': 'Onepunch-Man',\n",
       " 'SakDays': 'Sakamoto Days',\n",
       " 'SKR': 'Sun-ken Rock',\n",
       " 'SNK': 'Shingeki no Kyojin',\n",
       " 'SpyF': 'Spy X Family',\n",
       " 'SSY Lost Canva': 'Saint Seiya - The Lost Canva',\n",
       " 'TK': 'Tokyo Ghoul',\n",
       " 'TKre': 'Tokyo Ghoulre',\n",
       " 'Vagabond': 'Vagabond',\n",
       " 'Vinland': 'Vinland Saga',\n",
       " 'YuGiOh': 'Yu-Gi-Oh ! – Edition Double',\n",
       " 'Mob100': 'Mob Psycho 100',\n",
       " 'Tablier': 'Gokushufudou The Way of the House Husband',\n",
       " 'Kingdom': nan,\n",
       " 'Naruto': 'Naruto',\n",
       " 'FireForce': 'Enen no Shouboutai',\n",
       " 'Immortal': 'Blade of the Immortal',\n",
       " 'Monster': nan,\n",
       " 'FMB': nan,\n",
       " 'BlueL': 'Blue Lock'}"
      ]
     },
     "execution_count": 19,
     "metadata": {},
     "output_type": "execute_result"
    }
   ],
   "source": [
    "f = pd.read_excel(\"/Users/prld/git/EMS/origin.xlsx\", sheet_name=\"SETTINGS\",usecols=\"A:B\")\n",
    "dict(zip(f.Manga, f.Manga_path))"
   ]
  },
  {
   "cell_type": "code",
   "execution_count": 20,
   "metadata": {},
   "outputs": [],
   "source": [
    "import re\n",
    "import pandas as pd\n",
    "import openpyxl\n",
    "import sys\n",
    "a = \"Vol.1 Chapter 10  Shinmen Takezo\"\n",
    "b = \"Vol.03 Ch.021 - Select\""
   ]
  },
  {
   "cell_type": "code",
   "execution_count": 12,
   "metadata": {},
   "outputs": [],
   "source": [
    "def f(el):\n",
    "    try:\n",
    "        y = re.search(r'Chapter \\d+',el).group(0)\n",
    "    except:\n",
    "        y = re.search(r'Ch.\\d+',el).group(0)\n",
    "    num = round(float(re.findall(r'\\d+',y)[0]))\n",
    "    vol = round(float(re.findall(r'\\d+',re.search(r'Vol.\\d+',el).group(0))[0]))\n",
    "    return(vol,num)"
   ]
  },
  {
   "cell_type": "code",
   "execution_count": 102,
   "metadata": {},
   "outputs": [
    {
     "name": "stdout",
     "output_type": "stream",
     "text": [
      "5848\n"
     ]
    },
    {
     "data": {
      "text/html": [
       "<div>\n",
       "<style scoped>\n",
       "    .dataframe tbody tr th:only-of-type {\n",
       "        vertical-align: middle;\n",
       "    }\n",
       "\n",
       "    .dataframe tbody tr th {\n",
       "        vertical-align: top;\n",
       "    }\n",
       "\n",
       "    .dataframe thead th {\n",
       "        text-align: right;\n",
       "    }\n",
       "</style>\n",
       "<table border=\"1\" class=\"dataframe\">\n",
       "  <thead>\n",
       "    <tr style=\"text-align: right;\">\n",
       "      <th></th>\n",
       "      <th>xl_rows</th>\n",
       "    </tr>\n",
       "    <tr>\n",
       "      <th>Vol</th>\n",
       "      <th></th>\n",
       "    </tr>\n",
       "  </thead>\n",
       "  <tbody>\n",
       "    <tr>\n",
       "      <th>TBD</th>\n",
       "      <td>2</td>\n",
       "    </tr>\n",
       "    <tr>\n",
       "      <th>131</th>\n",
       "      <td>3</td>\n",
       "    </tr>\n",
       "    <tr>\n",
       "      <th>130</th>\n",
       "      <td>4</td>\n",
       "    </tr>\n",
       "    <tr>\n",
       "      <th>129</th>\n",
       "      <td>5</td>\n",
       "    </tr>\n",
       "    <tr>\n",
       "      <th>128</th>\n",
       "      <td>6</td>\n",
       "    </tr>\n",
       "    <tr>\n",
       "      <th>...</th>\n",
       "      <td>...</td>\n",
       "    </tr>\n",
       "    <tr>\n",
       "      <th>5</th>\n",
       "      <td>129</td>\n",
       "    </tr>\n",
       "    <tr>\n",
       "      <th>4</th>\n",
       "      <td>130</td>\n",
       "    </tr>\n",
       "    <tr>\n",
       "      <th>3</th>\n",
       "      <td>131</td>\n",
       "    </tr>\n",
       "    <tr>\n",
       "      <th>2</th>\n",
       "      <td>132</td>\n",
       "    </tr>\n",
       "    <tr>\n",
       "      <th>1</th>\n",
       "      <td>133</td>\n",
       "    </tr>\n",
       "  </tbody>\n",
       "</table>\n",
       "<p>132 rows × 1 columns</p>\n",
       "</div>"
      ],
      "text/plain": [
       "     xl_rows\n",
       "Vol         \n",
       "TBD        2\n",
       "131        3\n",
       "130        4\n",
       "129        5\n",
       "128        6\n",
       "..       ...\n",
       "5        129\n",
       "4        130\n",
       "3        131\n",
       "2        132\n",
       "1        133\n",
       "\n",
       "[132 rows x 1 columns]"
      ]
     },
     "metadata": {},
     "output_type": "display_data"
    }
   ],
   "source": [
    "g = pd.read_excel(\"/Users/prld/git/EMS/origin.xlsx\", sheet_name=\"update_copy\",usecols=\"A\")\n",
    "g[\"xl_rows\"] = [k for k in range(2,len(g)+2)]\n",
    "g = g.set_index(\"Vol\",drop=True)\n",
    "print(sys.getsizeof(g))\n",
    "display(g)"
   ]
  },
  {
   "cell_type": "code",
   "execution_count": 101,
   "metadata": {},
   "outputs": [
    {
     "data": {
      "text/html": [
       "<div>\n",
       "<style scoped>\n",
       "    .dataframe tbody tr th:only-of-type {\n",
       "        vertical-align: middle;\n",
       "    }\n",
       "\n",
       "    .dataframe tbody tr th {\n",
       "        vertical-align: top;\n",
       "    }\n",
       "\n",
       "    .dataframe thead th {\n",
       "        text-align: right;\n",
       "    }\n",
       "</style>\n",
       "<table border=\"1\" class=\"dataframe\">\n",
       "  <thead>\n",
       "    <tr style=\"text-align: right;\">\n",
       "      <th></th>\n",
       "      <th>xl_rows</th>\n",
       "      <th>MHA</th>\n",
       "    </tr>\n",
       "    <tr>\n",
       "      <th>Vol</th>\n",
       "      <th></th>\n",
       "      <th></th>\n",
       "    </tr>\n",
       "  </thead>\n",
       "  <tbody>\n",
       "    <tr>\n",
       "      <th>TBD</th>\n",
       "      <td>2</td>\n",
       "      <td>395.0</td>\n",
       "    </tr>\n",
       "    <tr>\n",
       "      <th>131</th>\n",
       "      <td>3</td>\n",
       "      <td>NaN</td>\n",
       "    </tr>\n",
       "    <tr>\n",
       "      <th>130</th>\n",
       "      <td>4</td>\n",
       "      <td>NaN</td>\n",
       "    </tr>\n",
       "    <tr>\n",
       "      <th>129</th>\n",
       "      <td>5</td>\n",
       "      <td>NaN</td>\n",
       "    </tr>\n",
       "    <tr>\n",
       "      <th>128</th>\n",
       "      <td>6</td>\n",
       "      <td>NaN</td>\n",
       "    </tr>\n",
       "    <tr>\n",
       "      <th>...</th>\n",
       "      <td>...</td>\n",
       "      <td>...</td>\n",
       "    </tr>\n",
       "    <tr>\n",
       "      <th>5</th>\n",
       "      <td>129</td>\n",
       "      <td>44.0</td>\n",
       "    </tr>\n",
       "    <tr>\n",
       "      <th>4</th>\n",
       "      <td>130</td>\n",
       "      <td>35.0</td>\n",
       "    </tr>\n",
       "    <tr>\n",
       "      <th>3</th>\n",
       "      <td>131</td>\n",
       "      <td>26.0</td>\n",
       "    </tr>\n",
       "    <tr>\n",
       "      <th>2</th>\n",
       "      <td>132</td>\n",
       "      <td>17.0</td>\n",
       "    </tr>\n",
       "    <tr>\n",
       "      <th>1</th>\n",
       "      <td>133</td>\n",
       "      <td>7.0</td>\n",
       "    </tr>\n",
       "  </tbody>\n",
       "</table>\n",
       "<p>132 rows × 2 columns</p>\n",
       "</div>"
      ],
      "text/plain": [
       "     xl_rows    MHA\n",
       "Vol                \n",
       "TBD        2  395.0\n",
       "131        3    NaN\n",
       "130        4    NaN\n",
       "129        5    NaN\n",
       "128        6    NaN\n",
       "..       ...    ...\n",
       "5        129   44.0\n",
       "4        130   35.0\n",
       "3        131   26.0\n",
       "2        132   17.0\n",
       "1        133    7.0\n",
       "\n",
       "[132 rows x 2 columns]"
      ]
     },
     "metadata": {},
     "output_type": "display_data"
    },
    {
     "name": "stdout",
     "output_type": "stream",
     "text": [
      "6904\n"
     ]
    }
   ],
   "source": [
    "g = g[[\"xl_rows\",\"MHA\"]].copy()\n",
    "display(g)\n",
    "print(sys.getsizeof(g))"
   ]
  },
  {
   "cell_type": "code",
   "execution_count": 91,
   "metadata": {},
   "outputs": [
    {
     "data": {
      "text/plain": [
       "116.0"
      ]
     },
     "execution_count": 91,
     "metadata": {},
     "output_type": "execute_result"
    }
   ],
   "source": [
    "test.loc[18][\"xl_rows\"]"
   ]
  },
  {
   "cell_type": "code",
   "execution_count": 63,
   "metadata": {},
   "outputs": [],
   "source": [
    "workbook = openpyxl.load_workbook('/Users/prld/git/EMS/origin.xlsx')\n",
    "sheet = workbook[\"update_copy\"]"
   ]
  },
  {
   "cell_type": "code",
   "execution_count": 64,
   "metadata": {},
   "outputs": [
    {
     "data": {
      "text/plain": [
       "['Vol',\n",
       " 'BCL',\n",
       " 'SakDays',\n",
       " 'Conan',\n",
       " 'JJK',\n",
       " 'MHA',\n",
       " 'CJX',\n",
       " 'HxH',\n",
       " 'OP',\n",
       " 'Chainsaw',\n",
       " 'Opman',\n",
       " 'Mashle',\n",
       " 'SpyF',\n",
       " 'DBSuper',\n",
       " 'Tablier',\n",
       " 'Jojo1',\n",
       " 'Jojo2',\n",
       " 'Jojo3',\n",
       " 'Jojo4',\n",
       " 'YuGiOh',\n",
       " 'NNTZ',\n",
       " 'SNK',\n",
       " 'KNB',\n",
       " 'DB',\n",
       " 'Bleach',\n",
       " 'Gintama',\n",
       " 'Gamaran',\n",
       " 'HellP',\n",
       " 'Mob100',\n",
       " 'Immortal',\n",
       " 'Fable',\n",
       " 'Monster']"
      ]
     },
     "execution_count": 64,
     "metadata": {},
     "output_type": "execute_result"
    }
   ],
   "source": [
    "ml = [c.value for c in sheet[\"1\"] if c.value != None]\n",
    "ml"
   ]
  },
  {
   "cell_type": "code",
   "execution_count": 68,
   "metadata": {},
   "outputs": [],
   "source": [
    "sheet.cell(row=3,column=2).value = 12\n",
    "workbook.save('origin.xlsx')"
   ]
  },
  {
   "cell_type": "code",
   "execution_count": 78,
   "metadata": {},
   "outputs": [
    {
     "data": {
      "text/plain": [
       "['Vol',\n",
       " 'BCL',\n",
       " 'SakDays',\n",
       " 'Conan',\n",
       " 'JJK',\n",
       " 'MHA',\n",
       " 'CJX',\n",
       " 'HxH',\n",
       " 'OP',\n",
       " 'Chainsaw',\n",
       " 'Opman',\n",
       " 'Mashle',\n",
       " 'SpyF',\n",
       " 'DBSuper',\n",
       " 'Tablier',\n",
       " 'Jojo1',\n",
       " 'Jojo2',\n",
       " 'Jojo3',\n",
       " 'Jojo4',\n",
       " 'YuGiOh',\n",
       " 'NNTZ',\n",
       " 'SNK',\n",
       " 'KNB',\n",
       " 'DB',\n",
       " 'Bleach',\n",
       " 'Gintama',\n",
       " 'Gamaran',\n",
       " 'HellP',\n",
       " 'Mob100',\n",
       " 'Immortal',\n",
       " 'Fable',\n",
       " 'Monster']"
      ]
     },
     "execution_count": 78,
     "metadata": {},
     "output_type": "execute_result"
    }
   ],
   "source": [
    "ml"
   ]
  },
  {
   "cell_type": "code",
   "execution_count": 106,
   "metadata": {},
   "outputs": [
    {
     "data": {
      "text/plain": [
       "{'TBD': 2,\n",
       " 131: 3,\n",
       " 130: 4,\n",
       " 129: 5,\n",
       " 128: 6,\n",
       " 127: 7,\n",
       " 126: 8,\n",
       " 125: 9,\n",
       " 124: 10,\n",
       " 123: 11,\n",
       " 122: 12,\n",
       " 121: 13,\n",
       " 120: 14,\n",
       " 119: 15,\n",
       " 118: 16,\n",
       " 117: 17,\n",
       " 116: 18,\n",
       " 115: 19,\n",
       " 114: 20,\n",
       " 113: 21,\n",
       " 112: 22,\n",
       " 111: 23,\n",
       " 110: 24,\n",
       " 109: 25,\n",
       " 108: 26,\n",
       " 107: 27,\n",
       " 106: 28,\n",
       " 105: 29,\n",
       " 104: 30,\n",
       " 103: 31,\n",
       " 102: 32,\n",
       " 101: 33,\n",
       " 100: 34,\n",
       " 99: 35,\n",
       " 98: 36,\n",
       " 97: 37,\n",
       " 96: 38,\n",
       " 95: 39,\n",
       " 94: 40,\n",
       " 93: 41,\n",
       " 92: 42,\n",
       " 91: 43,\n",
       " 90: 44,\n",
       " 89: 45,\n",
       " 88: 46,\n",
       " 87: 47,\n",
       " 86: 48,\n",
       " 85: 49,\n",
       " 84: 50,\n",
       " 83: 51,\n",
       " 82: 52,\n",
       " 81: 53,\n",
       " 80: 54,\n",
       " 79: 55,\n",
       " 78: 56,\n",
       " 77: 57,\n",
       " 76: 58,\n",
       " 75: 59,\n",
       " 74: 60,\n",
       " 73: 61,\n",
       " 72: 62,\n",
       " 71: 63,\n",
       " 70: 64,\n",
       " 69: 65,\n",
       " 68: 66,\n",
       " 67: 67,\n",
       " 66: 68,\n",
       " 65: 69,\n",
       " 64: 70,\n",
       " 63: 71,\n",
       " 62: 72,\n",
       " 61: 73,\n",
       " 60: 74,\n",
       " 59: 75,\n",
       " 58: 76,\n",
       " 57: 77,\n",
       " 56: 78,\n",
       " 55: 79,\n",
       " 54: 80,\n",
       " 53: 81,\n",
       " 52: 82,\n",
       " 51: 83,\n",
       " 50: 84,\n",
       " 49: 85,\n",
       " 48: 86,\n",
       " 47: 87,\n",
       " 46: 88,\n",
       " 45: 89,\n",
       " 44: 90,\n",
       " 43: 91,\n",
       " 42: 92,\n",
       " 41: 93,\n",
       " 40: 94,\n",
       " 39: 95,\n",
       " 38: 96,\n",
       " 37: 97,\n",
       " 36: 98,\n",
       " 35: 99,\n",
       " 34: 100,\n",
       " 33: 101,\n",
       " 32: 102,\n",
       " 31: 103,\n",
       " 30: 104,\n",
       " 29: 105,\n",
       " 28: 106,\n",
       " 27: 107,\n",
       " 26: 108,\n",
       " 25: 109,\n",
       " 24: 110,\n",
       " 23: 111,\n",
       " 22: 112,\n",
       " 21: 113,\n",
       " 20: 114,\n",
       " 19: 115,\n",
       " 18: 116,\n",
       " 17: 117,\n",
       " 16: 118,\n",
       " 15: 119,\n",
       " 14: 120,\n",
       " 13: 121,\n",
       " 12: 122,\n",
       " 11: 123,\n",
       " 10: 124,\n",
       " 9: 125,\n",
       " 8: 126,\n",
       " 7: 127,\n",
       " 6: 128,\n",
       " 5: 129,\n",
       " 4: 130,\n",
       " 3: 131,\n",
       " 2: 132,\n",
       " 1: 133}"
      ]
     },
     "execution_count": 106,
     "metadata": {},
     "output_type": "execute_result"
    }
   ],
   "source": [
    "pd_wb = pd.read_excel(\"origin.xlsx\", sheet_name=\"update_copy\",usecols=\"A\")\n",
    "pd_wb[\"xl_rows\"] = [k for k in range(2,len(pd_wb)+2)]\n",
    "pd_wb = pd_wb.set_index(\"Vol\",drop=True)\n",
    "pd_wb.to_dict()[\"xl_rows\"]"
   ]
  },
  {
   "cell_type": "code",
   "execution_count": 14,
   "metadata": {},
   "outputs": [
    {
     "data": {
      "text/plain": [
       "{'TBD': 2,\n",
       " 131: 3,\n",
       " 130: 4,\n",
       " 129: 5,\n",
       " 128: 6,\n",
       " 127: 7,\n",
       " 126: 8,\n",
       " 125: 9,\n",
       " 124: 10,\n",
       " 123: 11,\n",
       " 122: 12,\n",
       " 121: 13,\n",
       " 120: 14,\n",
       " 119: 15,\n",
       " 118: 16,\n",
       " 117: 17,\n",
       " 116: 18,\n",
       " 115: 19,\n",
       " 114: 20,\n",
       " 113: 21,\n",
       " 112: 22,\n",
       " 111: 23,\n",
       " 110: 24,\n",
       " 109: 25,\n",
       " 108: 26,\n",
       " 107: 27,\n",
       " 106: 28,\n",
       " 105: 29,\n",
       " 104: 30,\n",
       " 103: 31,\n",
       " 102: 32,\n",
       " 101: 33,\n",
       " 100: 34,\n",
       " 99: 35,\n",
       " 98: 36,\n",
       " 97: 37,\n",
       " 96: 38,\n",
       " 95: 39,\n",
       " 94: 40,\n",
       " 93: 41,\n",
       " 92: 42,\n",
       " 91: 43,\n",
       " 90: 44,\n",
       " 89: 45,\n",
       " 88: 46,\n",
       " 87: 47,\n",
       " 86: 48,\n",
       " 85: 49,\n",
       " 84: 50,\n",
       " 83: 51,\n",
       " 82: 52,\n",
       " 81: 53,\n",
       " 80: 54,\n",
       " 79: 55,\n",
       " 78: 56,\n",
       " 77: 57,\n",
       " 76: 58,\n",
       " 75: 59,\n",
       " 74: 60,\n",
       " 73: 61,\n",
       " 72: 62,\n",
       " 71: 63,\n",
       " 70: 64,\n",
       " 69: 65,\n",
       " 68: 66,\n",
       " 67: 67,\n",
       " 66: 68,\n",
       " 65: 69,\n",
       " 64: 70,\n",
       " 63: 71,\n",
       " 62: 72,\n",
       " 61: 73,\n",
       " 60: 74,\n",
       " 59: 75,\n",
       " 58: 76,\n",
       " 57: 77,\n",
       " 56: 78,\n",
       " 55: 79,\n",
       " 54: 80,\n",
       " 53: 81,\n",
       " 52: 82,\n",
       " 51: 83,\n",
       " 50: 84,\n",
       " 49: 85,\n",
       " 48: 86,\n",
       " 47: 87,\n",
       " 46: 88,\n",
       " 45: 89,\n",
       " 44: 90,\n",
       " 43: 91,\n",
       " 42: 92,\n",
       " 41: 93,\n",
       " 40: 94,\n",
       " 39: 95,\n",
       " 38: 96,\n",
       " 37: 97,\n",
       " 36: 98,\n",
       " 35: 99,\n",
       " 34: 100,\n",
       " 33: 101,\n",
       " 32: 102,\n",
       " 31: 103,\n",
       " 30: 104,\n",
       " 29: 105,\n",
       " 28: 106,\n",
       " 27: 107,\n",
       " 26: 108,\n",
       " 25: 109,\n",
       " 24: 110,\n",
       " 23: 111,\n",
       " 22: 112,\n",
       " 21: 113,\n",
       " 20: 114,\n",
       " 19: 115,\n",
       " 18: 116,\n",
       " 17: 117,\n",
       " 16: 118,\n",
       " 15: 119,\n",
       " 14: 120,\n",
       " 13: 121,\n",
       " 12: 122,\n",
       " 11: 123,\n",
       " 10: 124,\n",
       " 9: 125,\n",
       " 8: 126,\n",
       " 7: 127,\n",
       " 6: 128,\n",
       " 5: 129,\n",
       " 4: 130,\n",
       " 3: 131,\n",
       " 2: 132,\n",
       " 1: 133}"
      ]
     },
     "execution_count": 14,
     "metadata": {},
     "output_type": "execute_result"
    }
   ],
   "source": [
    "import pandas as pd\n",
    "pd_wb = pd.read_excel(\"origin.xlsx\", sheet_name=\"UPDATE\",usecols=\"A\")\n",
    "pd_wb[\"xl_rows\"] = [k for k in range(2,len(pd_wb)+2)]\n",
    "pd_wb = pd_wb.set_index(\"Vol\",drop=True)\n",
    "pd_wb = pd_wb.to_dict()[\"xl_rows\"]\n",
    "pd_wb"
   ]
  },
  {
   "cell_type": "code",
   "execution_count": 24,
   "metadata": {},
   "outputs": [],
   "source": [
    "tex = 'Episode 12'\n",
    "hk_chapt_name = ['Page','Kapitel','Lesson','Level','Episode']\n",
    "\n",
    "def f(el):\n",
    "    try:\n",
    "        y = re.search(r'Chapter \\d+',el).group(0)\n",
    "    except:\n",
    "        try:\n",
    "            y = re.search(r'Ch.\\d+',el).group(0)\n",
    "        except:\n",
    "            for x in hk_chapt_name:\n",
    "                try:\n",
    "                    var = x + ' \\d+'\n",
    "                    y = re.search(var,el).group(0)\n",
    "                except:\n",
    "                    pass\n",
    "    return y"
   ]
  },
  {
   "cell_type": "code",
   "execution_count": 25,
   "metadata": {},
   "outputs": [
    {
     "data": {
      "text/plain": [
       "'Episode 12'"
      ]
     },
     "execution_count": 25,
     "metadata": {},
     "output_type": "execute_result"
    }
   ],
   "source": [
    "f(tex)"
   ]
  },
  {
   "cell_type": "code",
   "execution_count": 30,
   "metadata": {},
   "outputs": [
    {
     "data": {
      "text/plain": [
       "38"
      ]
     },
     "execution_count": 30,
     "metadata": {},
     "output_type": "execute_result"
    }
   ],
   "source": [
    "import openpyxl\n",
    "import pandas as pd\n",
    "wb = openpyxl.load_workbook('/Users/prld/git/EMS/origin.xlsx')\n",
    "ws = wb[\"UPDATE\"]\n",
    "ml = [c.value for c in ws[\"1\"] if c.value != None]\n",
    "col_n = ml.index('Berserk')+1\n",
    "col_n"
   ]
  },
  {
   "cell_type": "code",
   "execution_count": 72,
   "metadata": {},
   "outputs": [
    {
     "data": {
      "text/plain": [
       "'Z'"
      ]
     },
     "execution_count": 72,
     "metadata": {},
     "output_type": "execute_result"
    }
   ],
   "source": [
    "chr(64+26)"
   ]
  },
  {
   "cell_type": "code",
   "execution_count": 70,
   "metadata": {},
   "outputs": [
    {
     "data": {
      "text/plain": [
       "1.0"
      ]
     },
     "execution_count": 70,
     "metadata": {},
     "output_type": "execute_result"
    }
   ],
   "source": [
    "(43-(43%26))/26"
   ]
  },
  {
   "cell_type": "code",
   "execution_count": 69,
   "metadata": {},
   "outputs": [
    {
     "data": {
      "text/plain": [
       "17"
      ]
     },
     "execution_count": 69,
     "metadata": {},
     "output_type": "execute_result"
    }
   ],
   "source": [
    "43%26"
   ]
  },
  {
   "cell_type": "code",
   "execution_count": 75,
   "metadata": {},
   "outputs": [],
   "source": [
    "def excel_col_str(x):\n",
    "    if x==0:\n",
    "        return()\n",
    "    if 1<=x<=26:\n",
    "        return chr(64+x)\n",
    "    r = int(x%26)\n",
    "    k = int((x-r)/26)\n",
    "    if r==0:\n",
    "        r=26\n",
    "        k-=1\n",
    "        return excel_col_str(k)+'Z'\n",
    "    else:\n",
    "        return excel_col_str(k)+excel_col_str(r)"
   ]
  },
  {
   "cell_type": "code",
   "execution_count": 79,
   "metadata": {},
   "outputs": [
    {
     "data": {
      "text/plain": [
       "'A'"
      ]
     },
     "execution_count": 79,
     "metadata": {},
     "output_type": "execute_result"
    }
   ],
   "source": [
    "excel_col_str(1)"
   ]
  },
  {
   "cell_type": "code",
   "execution_count": 29,
   "metadata": {},
   "outputs": [
    {
     "data": {
      "text/plain": [
       "['20th Century Boys',\n",
       " 'BCL',\n",
       " 'Bleach',\n",
       " 'CJX',\n",
       " 'Chainsaw',\n",
       " 'Conan',\n",
       " 'DB',\n",
       " 'DBSuper',\n",
       " 'GTO',\n",
       " 'Gintama',\n",
       " 'HxH',\n",
       " 'Immortal',\n",
       " 'JJK',\n",
       " 'Jojo1',\n",
       " 'KNB',\n",
       " 'Kaiju8',\n",
       " 'MHA',\n",
       " 'Mashle',\n",
       " 'NNTZ',\n",
       " 'OP',\n",
       " 'SNK',\n",
       " 'SakDays',\n",
       " 'Vagabond',\n",
       " 'YuGiOh']"
      ]
     },
     "execution_count": 29,
     "metadata": {},
     "output_type": "execute_result"
    }
   ],
   "source": [
    "converted = '/Volumes/222EXT/Converted/'\n",
    "def check_dispo():\n",
    "    dispo = []\n",
    "    for el in os.listdir(converted):\n",
    "        if ('Complete' in el) == False:\n",
    "            dispo.append(el.split(' ',1)[1])\n",
    "        else:\n",
    "            dispo.append(el.split('Complete - ')[1])\n",
    "    dispo.sort()\n",
    "    return dispo\n",
    "check_dispo()"
   ]
  },
  {
   "cell_type": "code",
   "execution_count": 37,
   "metadata": {},
   "outputs": [
    {
     "data": {
      "text/plain": [
       "'119'"
      ]
     },
     "execution_count": 37,
     "metadata": {},
     "output_type": "execute_result"
    }
   ],
   "source": [
    "hk_chapt_name = ['Page','Days','Kapitel','Lesson','Level','Episode','No.', 'Quarter', \"#\", \"Prologue\", \"Class\", \"Z=\"]\n",
    "chapt = os.listdir('/Volumes/222EXT/222Mangas_input/Sakamoto Days')[12]\n",
    "try:\n",
    "    y = re.search(r'Chapter \\d+',chapt).group(0)\n",
    "except:\n",
    "    try:\n",
    "        y = re.search(r'Ch.\\d+',chapt).group(0)\n",
    "    except:\n",
    "        # Format MangaSee ...\n",
    "        iterr = True\n",
    "        c = 0\n",
    "        while iterr == True:\n",
    "            x = hk_chapt_name[c]\n",
    "            try:\n",
    "                var = x + ' \\d+'\n",
    "                y = re.search(var,chapt).group(0)\n",
    "                iterr = False\n",
    "            except:\n",
    "                c+=1\n",
    "                pass\n",
    "num = re.findall(r'\\d+',y)[0]\n",
    "num"
   ]
  },
  {
   "cell_type": "code",
   "execution_count": 43,
   "metadata": {},
   "outputs": [
    {
     "data": {
      "text/html": [
       "<div>\n",
       "<style scoped>\n",
       "    .dataframe tbody tr th:only-of-type {\n",
       "        vertical-align: middle;\n",
       "    }\n",
       "\n",
       "    .dataframe tbody tr th {\n",
       "        vertical-align: top;\n",
       "    }\n",
       "\n",
       "    .dataframe thead th {\n",
       "        text-align: right;\n",
       "    }\n",
       "</style>\n",
       "<table border=\"1\" class=\"dataframe\">\n",
       "  <thead>\n",
       "    <tr style=\"text-align: right;\">\n",
       "      <th></th>\n",
       "      <th>TBD</th>\n",
       "    </tr>\n",
       "    <tr>\n",
       "      <th>edit_name</th>\n",
       "      <th></th>\n",
       "    </tr>\n",
       "  </thead>\n",
       "  <tbody>\n",
       "    <tr>\n",
       "      <th>20th Century Boys</th>\n",
       "      <td>False</td>\n",
       "    </tr>\n",
       "    <tr>\n",
       "      <th>Assassination Classroom</th>\n",
       "      <td>False</td>\n",
       "    </tr>\n",
       "    <tr>\n",
       "      <th>Black Clover</th>\n",
       "      <td>True</td>\n",
       "    </tr>\n",
       "    <tr>\n",
       "      <th>Berserk</th>\n",
       "      <td>True</td>\n",
       "    </tr>\n",
       "    <tr>\n",
       "      <th>Berserk prologue</th>\n",
       "      <td>False</td>\n",
       "    </tr>\n",
       "    <tr>\n",
       "      <th>Bleach</th>\n",
       "      <td>False</td>\n",
       "    </tr>\n",
       "    <tr>\n",
       "      <th>Blue Lock</th>\n",
       "      <td>True</td>\n",
       "    </tr>\n",
       "    <tr>\n",
       "      <th>Chainsaw Man</th>\n",
       "      <td>True</td>\n",
       "    </tr>\n",
       "    <tr>\n",
       "      <th>Choujin X</th>\n",
       "      <td>True</td>\n",
       "    </tr>\n",
       "    <tr>\n",
       "      <th>Detective Conan</th>\n",
       "      <td>True</td>\n",
       "    </tr>\n",
       "    <tr>\n",
       "      <th>Dragon Ball</th>\n",
       "      <td>False</td>\n",
       "    </tr>\n",
       "    <tr>\n",
       "      <th>Dragon Ball Super</th>\n",
       "      <td>True</td>\n",
       "    </tr>\n",
       "    <tr>\n",
       "      <th>Gamaran</th>\n",
       "      <td>False</td>\n",
       "    </tr>\n",
       "    <tr>\n",
       "      <th>Gintama</th>\n",
       "      <td>False</td>\n",
       "    </tr>\n",
       "    <tr>\n",
       "      <th>GTO</th>\n",
       "      <td>False</td>\n",
       "    </tr>\n",
       "    <tr>\n",
       "      <th>Hell's Paradise</th>\n",
       "      <td>False</td>\n",
       "    </tr>\n",
       "    <tr>\n",
       "      <th>Hunter X Hunter</th>\n",
       "      <td>True</td>\n",
       "    </tr>\n",
       "    <tr>\n",
       "      <th>Blade of the Immortal</th>\n",
       "      <td>False</td>\n",
       "    </tr>\n",
       "    <tr>\n",
       "      <th>Jujutsu Kaisen</th>\n",
       "      <td>True</td>\n",
       "    </tr>\n",
       "    <tr>\n",
       "      <th>JoJo 1</th>\n",
       "      <td>False</td>\n",
       "    </tr>\n",
       "    <tr>\n",
       "      <th>JoJo 2</th>\n",
       "      <td>False</td>\n",
       "    </tr>\n",
       "    <tr>\n",
       "      <th>JoJo 3</th>\n",
       "      <td>False</td>\n",
       "    </tr>\n",
       "    <tr>\n",
       "      <th>Jojo 4</th>\n",
       "      <td>False</td>\n",
       "    </tr>\n",
       "    <tr>\n",
       "      <th>Kaiju No. 8</th>\n",
       "      <td>True</td>\n",
       "    </tr>\n",
       "    <tr>\n",
       "      <th>Kuroko no Basket</th>\n",
       "      <td>False</td>\n",
       "    </tr>\n",
       "    <tr>\n",
       "      <th>Mashle</th>\n",
       "      <td>True</td>\n",
       "    </tr>\n",
       "    <tr>\n",
       "      <th>My Hero Academia</th>\n",
       "      <td>True</td>\n",
       "    </tr>\n",
       "    <tr>\n",
       "      <th>Mob Psycho 100</th>\n",
       "      <td>False</td>\n",
       "    </tr>\n",
       "    <tr>\n",
       "      <th>Monster</th>\n",
       "      <td>False</td>\n",
       "    </tr>\n",
       "    <tr>\n",
       "      <th>Montage</th>\n",
       "      <td>False</td>\n",
       "    </tr>\n",
       "    <tr>\n",
       "      <th>Moriarty</th>\n",
       "      <td>False</td>\n",
       "    </tr>\n",
       "    <tr>\n",
       "      <th>Nanatsu no Taizai</th>\n",
       "      <td>False</td>\n",
       "    </tr>\n",
       "    <tr>\n",
       "      <th>One Piece</th>\n",
       "      <td>True</td>\n",
       "    </tr>\n",
       "    <tr>\n",
       "      <th>Onepunch Man</th>\n",
       "      <td>True</td>\n",
       "    </tr>\n",
       "    <tr>\n",
       "      <th>Sakamoto Days</th>\n",
       "      <td>True</td>\n",
       "    </tr>\n",
       "    <tr>\n",
       "      <th>Sidooh</th>\n",
       "      <td>False</td>\n",
       "    </tr>\n",
       "    <tr>\n",
       "      <th>Sun-ken Rock</th>\n",
       "      <td>False</td>\n",
       "    </tr>\n",
       "    <tr>\n",
       "      <th>Shingeki no Kyojin</th>\n",
       "      <td>False</td>\n",
       "    </tr>\n",
       "    <tr>\n",
       "      <th>Spy X Family</th>\n",
       "      <td>True</td>\n",
       "    </tr>\n",
       "    <tr>\n",
       "      <th>The Way of the House Husband</th>\n",
       "      <td>False</td>\n",
       "    </tr>\n",
       "    <tr>\n",
       "      <th>Tokyo Ghoul</th>\n",
       "      <td>False</td>\n",
       "    </tr>\n",
       "    <tr>\n",
       "      <th>Tokyo Ghoulre</th>\n",
       "      <td>False</td>\n",
       "    </tr>\n",
       "    <tr>\n",
       "      <th>Vagabond</th>\n",
       "      <td>False</td>\n",
       "    </tr>\n",
       "    <tr>\n",
       "      <th>Yu-Gi-Oh</th>\n",
       "      <td>False</td>\n",
       "    </tr>\n",
       "  </tbody>\n",
       "</table>\n",
       "</div>"
      ],
      "text/plain": [
       "                                TBD\n",
       "edit_name                          \n",
       "20th Century Boys             False\n",
       "Assassination Classroom       False\n",
       "Black Clover                   True\n",
       "Berserk                        True\n",
       "Berserk prologue              False\n",
       "Bleach                        False\n",
       "Blue Lock                      True\n",
       "Chainsaw Man                   True\n",
       "Choujin X                      True\n",
       "Detective Conan                True\n",
       "Dragon Ball                   False\n",
       "Dragon Ball Super              True\n",
       "Gamaran                       False\n",
       "Gintama                       False\n",
       "GTO                           False\n",
       "Hell's Paradise               False\n",
       "Hunter X Hunter                True\n",
       "Blade of the Immortal         False\n",
       "Jujutsu Kaisen                 True\n",
       "JoJo 1                        False\n",
       "JoJo 2                        False\n",
       "JoJo 3                        False\n",
       "Jojo 4                        False\n",
       "Kaiju No. 8                    True\n",
       "Kuroko no Basket              False\n",
       "Mashle                         True\n",
       "My Hero Academia               True\n",
       "Mob Psycho 100                False\n",
       "Monster                       False\n",
       "Montage                       False\n",
       "Moriarty                      False\n",
       "Nanatsu no Taizai             False\n",
       "One Piece                      True\n",
       "Onepunch Man                   True\n",
       "Sakamoto Days                  True\n",
       "Sidooh                        False\n",
       "Sun-ken Rock                  False\n",
       "Shingeki no Kyojin            False\n",
       "Spy X Family                   True\n",
       "The Way of the House Husband  False\n",
       "Tokyo Ghoul                   False\n",
       "Tokyo Ghoulre                 False\n",
       "Vagabond                      False\n",
       "Yu-Gi-Oh                      False"
      ]
     },
     "execution_count": 43,
     "metadata": {},
     "output_type": "execute_result"
    }
   ],
   "source": [
    "import pandas as pd\n",
    "f = pd.read_excel(\"/Users/prld/git/EMS/origin.xlsx\", sheet_name=\"SETTINGS\",usecols=\"O,N,H\")\n",
    "df = f[f['up.py']==True][['edit_name']]\n",
    "df_tbd = f[f['up.py']==True][['edit_name','TBD']]\n",
    "#df.sort_values('edit_name',inplace=True)\n",
    "#manga_list = df['edit_name'].to_list()\n",
    "df_tbd.set_index('edit_name',drop=True,inplace=True)\n",
    "df_tbd"
   ]
  },
  {
   "cell_type": "code",
   "execution_count": 60,
   "metadata": {},
   "outputs": [
    {
     "data": {
      "text/plain": [
       "'/Volumes/222EXT/Converted/2023-07-7 SakDays'"
      ]
     },
     "metadata": {},
     "output_type": "display_data"
    }
   ],
   "source": [
    "fold = [x for x in os.listdir(converted) if 'SakDays' in x][-1]\n",
    "display(converted+fold)\n",
    "#os.remove(converted+fold+\"/\"+'CJX'+\" VolTBD.cbz\")"
   ]
  },
  {
   "cell_type": "code",
   "execution_count": 62,
   "metadata": {},
   "outputs": [
    {
     "data": {
      "text/plain": [
       "'/Volumes/222EXT/Converted/2023-07-7 SakDays/SakDays VolTBD.zip'"
      ]
     },
     "execution_count": 62,
     "metadata": {},
     "output_type": "execute_result"
    }
   ],
   "source": [
    "from shutil import move\n",
    "move(\"/Volumes/222EXT/222Mangas_output/2023-08-16_2 SakDays/SakDays VolTBD.zip\",converted+fold+\"/\"+\"SakDays\"+\" VolTBD.zip\")"
   ]
  },
  {
   "cell_type": "code",
   "execution_count": 49,
   "metadata": {},
   "outputs": [
    {
     "data": {
      "text/plain": [
       "['BCL Vol26.cbz',\n",
       " 'BCL Vol27.cbz',\n",
       " 'BCL Vol28.cbz',\n",
       " 'BCL Vol29.cbz',\n",
       " 'BCL Vol30.cbz',\n",
       " 'BCL Vol31.cbz',\n",
       " 'BCL Vol32.cbz',\n",
       " 'BCL Vol33.cbz',\n",
       " 'BCL Vol34.cbz',\n",
       " 'BCL Vol35.cbz',\n",
       " 'BCL VolTBD.cbz']"
      ]
     },
     "execution_count": 49,
     "metadata": {},
     "output_type": "execute_result"
    }
   ],
   "source": [
    "os.listdir(\"/Volumes/222EXT/Converted/2023-06-30_1 BCL\")"
   ]
  },
  {
   "cell_type": "code",
   "execution_count": 50,
   "metadata": {},
   "outputs": [
    {
     "data": {
      "text/plain": [
       "['Chainsaw VolTBD.zip']"
      ]
     },
     "execution_count": 50,
     "metadata": {},
     "output_type": "execute_result"
    }
   ],
   "source": [
    "os.listdir('/Volumes/222EXT/222Mangas_output/2023-08-16_3 Chainsaw')"
   ]
  },
  {
   "cell_type": "code",
   "execution_count": 63,
   "metadata": {},
   "outputs": [],
   "source": [
    "from shutil import rmtree, move\n",
    "def tbd_replace(manga,pth):\n",
    "    fold = [x for x in os.listdir(converted) if manga in x][0]\n",
    "    try:os.remove(converted+fold+\"/\"+manga+\" VolTBD.cbz\")\n",
    "    except:pass\n",
    "    move(pth+'/'+manga+' VolTBD.zip',converted+fold+\"/\"+manga+\" VolTBD.zip\")\n",
    "    rmtree(pth,ignore_errors=True)"
   ]
  },
  {
   "cell_type": "code",
   "execution_count": 64,
   "metadata": {},
   "outputs": [],
   "source": [
    "tbd_replace(manga=\"SakDays\",pth=\"/Volumes/222EXT/222Mangas_output/2023-08-16_1 SakDays\")"
   ]
  },
  {
   "cell_type": "markdown",
   "metadata": {},
   "source": [
    "------"
   ]
  },
  {
   "cell_type": "code",
   "execution_count": 2,
   "metadata": {},
   "outputs": [],
   "source": [
    "from main.zp_cover import *\n",
    "import os"
   ]
  },
  {
   "cell_type": "code",
   "execution_count": null,
   "metadata": {},
   "outputs": [],
   "source": [
    "op = \"https://comicvine.gamespot.com/one-piece/4050-21397/\""
   ]
  },
  {
   "cell_type": "code",
   "execution_count": 11,
   "metadata": {},
   "outputs": [
    {
     "data": {
      "text/plain": [
       "106"
      ]
     },
     "metadata": {},
     "output_type": "display_data"
    }
   ],
   "source": [
    "covs = [ el for el in os.listdir(\"/Volumes/222EXT/222Covers/OP\") if '._' not in el ]\n",
    "display(len(covs)-('.DS_Store' in covs)-('TBD.jpg' in covs)-('0.jpg' in covs))"
   ]
  },
  {
   "cell_type": "code",
   "execution_count": 14,
   "metadata": {},
   "outputs": [
    {
     "data": {
      "text/plain": [
       "True"
      ]
     },
     "execution_count": 14,
     "metadata": {},
     "output_type": "execute_result"
    }
   ],
   "source": [
    "('0.jpg' in covs)"
   ]
  }
 ],
 "metadata": {
  "kernelspec": {
   "display_name": "mlpyth",
   "language": "python",
   "name": "python3"
  },
  "language_info": {
   "codemirror_mode": {
    "name": "ipython",
    "version": 3
   },
   "file_extension": ".py",
   "mimetype": "text/x-python",
   "name": "python",
   "nbconvert_exporter": "python",
   "pygments_lexer": "ipython3",
   "version": "3.10.5"
  },
  "orig_nbformat": 4,
  "vscode": {
   "interpreter": {
    "hash": "926bbeb4ce9206008ad923092258ccd8d64e0075bb9d59bc2cbcd4f5a1192348"
   }
  }
 },
 "nbformat": 4,
 "nbformat_minor": 2
}
